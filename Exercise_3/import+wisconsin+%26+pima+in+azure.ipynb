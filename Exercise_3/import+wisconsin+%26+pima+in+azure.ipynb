{
 "cells": [
  {
   "cell_type": "markdown",
   "metadata": {},
   "source": [
    "upload (μενού Data->upload) το αρχείο [wdbc.data](https://archive.ics.uci.edu/ml/machine-learning-databases/breast-cancer-wisconsin/wdbc.data) που έχετε κατεβάσει και διαλέξτε το \"library\" folder για το upload."
   ]
  },
  {
   "cell_type": "code",
   "execution_count": 21,
   "metadata": {},
   "outputs": [],
   "source": [
    "import pandas as pd\n",
    "data_df = pd.read_csv('wdbc.data', header=None)\n",
    "labels_df = data_df.iloc[:, [1]]\n",
    "features_df = data_df.iloc[:, 2:]\n",
    "wisconsin_features = features_df.values\n",
    "mapping = {'M': 0, 'B': 1}\n",
    "labels_df = labels_df.replace(mapping)\n",
    "wisconsin_labels = labels_df.values.flatten()"
   ]
  },
  {
   "cell_type": "markdown",
   "metadata": {},
   "source": [
    "upload (μενού Data->upload) το αρχείο [pima-indians-diabetes.data](https://archive.ics.uci.edu/ml/machine-learning-databases/pima-indians-diabetes/pima-indians-diabetes.data) που έχετε κατεβάσει και διαλέξτε το \"library\" folder για το upload."
   ]
  },
  {
   "cell_type": "code",
   "execution_count": 23,
   "metadata": {},
   "outputs": [],
   "source": [
    "from numpy import genfromtxt\n",
    "my_data = genfromtxt('pima-indians-diabetes.data', delimiter=',')\n",
    "pima_labels = my_data[:,-1].astype(int)\n",
    "pima_features = my_data[:,0:-1]"
   ]
  }
 ],
 "metadata": {
  "kernelspec": {
   "display_name": "Python 2",
   "language": "python",
   "name": "python2"
  },
  "language_info": {
   "codemirror_mode": {
    "name": "ipython",
    "version": 2
   },
   "file_extension": ".py",
   "mimetype": "text/x-python",
   "name": "python",
   "nbconvert_exporter": "python",
   "pygments_lexer": "ipython2",
   "version": "2.7.14"
  }
 },
 "nbformat": 4,
 "nbformat_minor": 2
}
